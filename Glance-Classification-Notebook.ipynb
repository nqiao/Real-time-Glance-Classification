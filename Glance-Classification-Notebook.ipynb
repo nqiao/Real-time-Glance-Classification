{
 "cells": [
  {
   "cell_type": "code",
   "execution_count": 1,
   "metadata": {
    "collapsed": true
   },
   "outputs": [],
   "source": [
    "import numpy as np\n",
    "import cv2\n",
    "import matplotlib.image as mpimg\n",
    "import matplotlib.pyplot as plt\n",
    "from skimage import io\n",
    "%matplotlib inline\n",
    "import os\n",
    "import glob\n",
    "from copy import deepcopy\n",
    "import scipy.io as sio \n",
    "import sys\n",
    "import dlib\n"
   ]
  },
  {
   "cell_type": "code",
   "execution_count": 2,
   "metadata": {
    "collapsed": true
   },
   "outputs": [],
   "source": [
    "predictor_path = \"shape_predictor_68_face_landmarks.dat/data\"\n",
    "# faces_folder_path = \"./Eye_chimeraToPublish/Centre\"\n",
    "detector = dlib.get_frontal_face_detector()\n",
    "predictor = dlib.shape_predictor(predictor_path)\n",
    "\n",
    "def get_landmarks(im):\n",
    "    \"\"\"Single face landmark detector. return an nparray.\"\"\"\n",
    "    rects = detector(im, 1)\n",
    "    return np.matrix([[p.x, p.y] for p in predictor(im, rects[0]).parts()])"
   ]
  },
  {
   "cell_type": "code",
   "execution_count": 3,
   "metadata": {
    "collapsed": true
   },
   "outputs": [],
   "source": [
    "# # Define the face and eye classifier\n",
    "# face_cascade = cv2.CascadeClassifier('./haarcascade_frontalface_default.xml')\n",
    "# eye_cascade = cv2.CascadeClassifier('./haarcascade_eye.xml')\n",
    "# img = mpimg.imread('./data/Eye_chimeraToPublish/0/eyes003019.jpg')\n",
    "# gray = cv2.cvtColor(img, cv2.COLOR_RGB2GRAY)\n",
    "# plt.imshow(gray, cmap='gray')\n",
    "# gray = gray.reshape((480,640,1))"
   ]
  },
  {
   "cell_type": "code",
   "execution_count": 4,
   "metadata": {
    "collapsed": true
   },
   "outputs": [],
   "source": [
    "# faces = face_cascade.detectMultiScale(gray, 1.3, 5)\n",
    "# for (x,y,w,h) in faces:\n",
    "#     cv2.rectangle(img,(x,y),(x+w,y+h),(255,0,0),2)\n",
    "#     roi_gray = gray[y:y+h, x:x+w]\n",
    "#     roi_color = img[y:y+h, x:x+w]\n",
    "#     eyes = eye_cascade.detectMultiScale(roi_gray)\n",
    "#     for (ex,ey,ew,eh) in eyes:\n",
    "#         cv2.rectangle(roi_color,(ex,ey),(ex+ew,ey+eh),(0,255,0),2)\n",
    "# # plt.plot(121,53,'o')\n",
    "# plt.imshow(img)\n",
    "# # cv2.imshow('img',gray)\n",
    "# # cv2.waitKey(0)\n",
    "# # cv2.destroyAllWindows()\n",
    "# print(eyes)"
   ]
  },
  {
   "cell_type": "code",
   "execution_count": 5,
   "metadata": {
    "collapsed": true
   },
   "outputs": [],
   "source": [
    "# load in eye_cinmera data, return image/label/matrix.\n",
    "def load_eye_cinmera():\n",
    "    X = []\n",
    "    y = []\n",
    "    Mat = []\n",
    "    for i in range(7):\n",
    "        faces_folder_path = \"./data/Eye_chimeraToPublish/\" + str(i)\n",
    "        for f in glob.glob(os.path.join(faces_folder_path, \"*.jpg\")):\n",
    "            f_name = os.path.basename(f)\n",
    "            f_basename = f_name.split(\".\", 1)[0]\n",
    "            # matrix file has the same name with the image file\n",
    "            mat_name = f_basename + \".mat\"\n",
    "            mat_path = os.path.join(faces_folder_path, mat_name)\n",
    "            img = io.imread(f)\n",
    "            X.append(img)\n",
    "            y.append(i)\n",
    "            Mat.append(sio.loadmat(mat_path)['eyePoints'])\n",
    "    return X, y, Mat\n",
    "X, y, Mat = load_eye_cinmera()"
   ]
  },
  {
   "cell_type": "code",
   "execution_count": 6,
   "metadata": {},
   "outputs": [
    {
     "name": "stdout",
     "output_type": "stream",
     "text": [
      "(1135, 30, 50, 3)\n"
     ]
    },
    {
     "data": {
      "image/png": "[encoded data removed]",
      "text/plain": [
       "<matplotlib.figure.Figure at 0x7fa49827f9e8>"
      ]
     },
     "metadata": {},
     "output_type": "display_data"
    }
   ],
   "source": [
    "def extract_eye_by_mat(X, Mat, pad_scale=0.4, resize_width=50, resize_height=30):\n",
    "    \"\"\"given image and eye location datasets, return two eye images dataset.\"\"\"\n",
    "    X_left = []\n",
    "    X_right = []\n",
    "    for (img, mat) in zip(X, Mat):\n",
    "        # the four egdes of left and right eyes\n",
    "        left_left = mat[0][0]\n",
    "        left_right = mat[1][0]\n",
    "        left_top = mat[2][1]\n",
    "        left_bottom = mat[3][1]\n",
    "        right_left = mat[5][0]\n",
    "        right_right = mat[6][0]\n",
    "        right_top = mat[7][1]\n",
    "        right_bottom = mat[8][1]\n",
    "        # cut eyes images from the original one\n",
    "        \n",
    "        left_pad_width = int((left_right - left_left) * pad_scale)\n",
    "        left_pad_height = int((left_bottom - left_top) * pad_scale)\n",
    "        \n",
    "        right_pad_width = int((right_right - right_left) * pad_scale)\n",
    "        right_pad_height = int((right_bottom - right_top) * pad_scale)\n",
    "        \n",
    "        left_eye = img[left_top-left_pad_height : left_bottom+left_pad_height, left_left-left_pad_width : left_right+left_pad_width, :]\n",
    "        right_eye = img[right_top-right_pad_height : right_bottom+right_pad_height, right_left-right_pad_width : right_right+right_pad_width, :]\n",
    "        \n",
    "        # reshape eye images to 50x42\n",
    "        X_left.append(cv2.resize(left_eye,(resize_width, resize_height),interpolation=cv2.INTER_CUBIC))\n",
    "        X_right.append(cv2.resize(right_eye,(resize_width, resize_height),interpolation=cv2.INTER_CUBIC))\n",
    "        \n",
    "    return np.array(X_left), np.array(X_right)\n",
    "X_left, X_right = extract_eye_by_mat(X, Mat)\n",
    "plt.imshow(X_left[1])\n",
    "print(X_left.shape)\n"
   ]
  },
  {
   "cell_type": "code",
   "execution_count": 7,
   "metadata": {},
   "outputs": [
    {
     "data": {
      "text/plain": [
       "(1135, 30, 100, 3)"
      ]
     },
     "execution_count": 7,
     "metadata": {},
     "output_type": "execute_result"
    }
   ],
   "source": [
    "X_combine = np.concatenate((X_left, X_right), axis=2)\n",
    "X_combine.shape"
   ]
  },
  {
   "cell_type": "code",
   "execution_count": 8,
   "metadata": {
    "collapsed": true
   },
   "outputs": [],
   "source": [
    "def extract_eyes_by_dlib(img, pad_scale=0.4, resize_width=50, resize_height=30, combine=False):\n",
    "    # get facial landmark matrix by dlib\n",
    "    mat = get_landmarks(img)\n",
    "    \n",
    "    left_left = mat[36,0]\n",
    "    left_right = mat[39,0]\n",
    "    left_top = min(mat[37,1], mat[38,1])\n",
    "    left_bottom = max(mat[40,1], mat[41,1])\n",
    "    right_left = mat[42,0]\n",
    "    right_right = mat[45,0]\n",
    "    right_top = min(mat[43,1], mat[44,1])\n",
    "    right_bottom = max(mat[46,1], mat[47,1])\n",
    "    # left pad\n",
    "    left_pad_width = int((left_right - left_left) * pad_scale)\n",
    "    left_pad_height = int((left_bottom - left_top) * pad_scale)\n",
    "    # right pad\n",
    "    right_pad_width = int((right_right - right_left) * pad_scale)\n",
    "    right_pad_height = int((right_bottom - right_top) * pad_scale)\n",
    "    # left and right eye plus pads\n",
    "    left_eye = img[left_top-left_pad_height : left_bottom+left_pad_height, left_left-left_pad_width : left_right+left_pad_width]\n",
    "    right_eye = img[right_top-right_pad_height : right_bottom+right_pad_height, right_left-right_pad_width : right_right+right_pad_width]\n",
    "    # resize\n",
    "    left_eye = cv2.resize(left_eye,(resize_width, resize_height),interpolation=cv2.INTER_CUBIC)\n",
    "    right_eye = cv2.resize(right_eye,(resize_width, resize_height),interpolation=cv2.INTER_CUBIC)\n",
    "    if combine:\n",
    "        return np.concatenate((left_eye, right_eye), axis=1)    \n",
    "    return left_eye, right_eye\n",
    "    \n",
    "\n",
    "# example_img = io.imread(\"./data/columbia_gaze_data_set/Columbia Gaze Data Set/0001/0001_2m_0P_0V_0H.jpg\")\n",
    "# example_left, example_right = extract_eyes_by_dlib(example_img)\n",
    "# example_combine = extract_eyes_by_dlib(example_img, combine=True)\n",
    "\n",
    "# plt.imshow(example_combine)\n",
    "# print(example_combine.shape)"
   ]
  },
  {
   "cell_type": "code",
   "execution_count": 9,
   "metadata": {
    "collapsed": true
   },
   "outputs": [],
   "source": [
    "def hist_equ(img):\n",
    "    gray_img = cv2.cvtColor(img, cv2.COLOR_RGB2GRAY)\n",
    "    equ = cv2.equalizeHist(gray_img)\n",
    "    return equ.reshape(equ.shape[0], equ.shape[1], 1)"
   ]
  },
  {
   "cell_type": "code",
   "execution_count": 10,
   "metadata": {
    "collapsed": true
   },
   "outputs": [],
   "source": [
    "def write_result(original_img, pred):\n",
    "    \"\"\"write the predict result on the raw image.\"\"\"\n",
    "    new_img = np.copy(original_img)\n",
    "    h = new_img.shape[0]\n",
    "    font = cv2.FONT_HERSHEY_DUPLEX\n",
    "    text = 'Classification result: ' + LABEL_MAP[pred]\n",
    "    cv2.putText(new_img, text, (40,70), font, 1, (200,255,155), 2, cv2.LINE_AA)\n",
    "    return new_img"
   ]
  },
  {
   "cell_type": "code",
   "execution_count": 11,
   "metadata": {},
   "outputs": [
    {
     "ename": "NameError",
     "evalue": "name 'example_combine' is not defined",
     "output_type": "error",
     "traceback": [
      "\u001b[0;31m---------------------------------------------------------------------------\u001b[0m",
      "\u001b[0;31mNameError\u001b[0m                                 Traceback (most recent call last)",
      "\u001b[0;32m<ipython-input-11-72869147dc4d>\u001b[0m in \u001b[0;36m<module>\u001b[0;34m()\u001b[0m\n\u001b[0;32m----> 1\u001b[0;31m \u001b[0mplt\u001b[0m\u001b[0;34m.\u001b[0m\u001b[0mimshow\u001b[0m\u001b[0;34m(\u001b[0m\u001b[0mhist_equ\u001b[0m\u001b[0;34m(\u001b[0m\u001b[0mexample_combine\u001b[0m\u001b[0;34m)\u001b[0m\u001b[0;34m.\u001b[0m\u001b[0msqueeze\u001b[0m\u001b[0;34m(\u001b[0m\u001b[0;34m)\u001b[0m\u001b[0;34m)\u001b[0m\u001b[0;34m\u001b[0m\u001b[0m\n\u001b[0m",
      "\u001b[0;31mNameError\u001b[0m: name 'example_combine' is not defined"
     ]
    }
   ],
   "source": [
    "plt.imshow(hist_equ(example_combine).squeeze())"
   ]
  },
  {
   "cell_type": "code",
   "execution_count": 12,
   "metadata": {
    "collapsed": true
   },
   "outputs": [],
   "source": [
    "def comb_hist_eye_cinmera(X_left, X_right):\n",
    "    X_combine = np.concatenate((X_left, X_right), axis=2)\n",
    "    X_combine_equ = np.empty(30*100*1135).reshape(1135, 30, 100, 1)\n",
    "    for i in range(1135):\n",
    "        equ = hist_equ(X_combine[i])\n",
    "        X_combine_equ[i] = equ\n",
    "    return X_combine_equ"
   ]
  },
  {
   "cell_type": "code",
   "execution_count": 13,
   "metadata": {},
   "outputs": [
    {
     "name": "stdout",
     "output_type": "stream",
     "text": [
      "(30, 100, 1)\n"
     ]
    },
    {
     "data": {
      "image/png": "[encoded data removed]",
      "text/plain": [
       "<matplotlib.figure.Figure at 0x7fa43690ccc0>"
      ]
     },
     "metadata": {},
     "output_type": "display_data"
    }
   ],
   "source": [
    "X_combine_equ = comb_hist_eye_cinmera(X_left, X_right)\n",
    "plt.imshow(X_combine_equ[10].squeeze())\n",
    "print(X_combine_equ[0].shape)"
   ]
  },
  {
   "cell_type": "code",
   "execution_count": 14,
   "metadata": {
    "collapsed": true
   },
   "outputs": [],
   "source": [
    "def pre_process(img, img_width=640, img_height=480, out_width=50, out_height=30):\n",
    "    \"\"\"Input a raw image, process to a certain format to throw into CNN.\"\"\"\n",
    "    \"\"\"Return combined, equalized eyes with size (30, 100, 1).\"\"\"\n",
    "    # gray scale\n",
    "    gray = cv2.cvtColor(img, cv2.COLOR_RGB2GRAY)\n",
    "    # if the input image is not (640x480), resize to this shape.\n",
    "    if gray.shape != (img_height, img_width):\n",
    "        gray = cv2.resize(gray,(img_width, img_height),interpolation=cv2.INTER_CUBIC)\n",
    "    # Do a Histogram Equalization \n",
    "    equ = cv2.equalizeHist(gray)\n",
    "    # extract eyes by dlib and concatenate left and right eye images.\n",
    "    eyes_img = extract_eyes_by_dlib(equ, pad_scale=0.4, resize_width=out_width, resize_height=out_height, combine=True)\n",
    "    print(eyes_img.shape)\n",
    "    # eyes_img.shape = (30, 100, 1)\n",
    "    return eyes_img.reshape(out_height, out_width*2, 1)\n",
    "    "
   ]
  },
  {
   "cell_type": "code",
   "execution_count": 15,
   "metadata": {},
   "outputs": [
    {
     "name": "stdout",
     "output_type": "stream",
     "text": [
      "(1135, 30, 100, 1)\n",
      "X_train shape:  (908, 30, 100, 1)\n",
      "X_valid shape:  (227, 30, 100, 1)\n",
      "y_train shape:  908\n",
      "y_valid shape:  227\n",
      "(908, 30, 100, 1)\n"
     ]
    },
    {
     "data": {
      "image/png": "[encoded data removed]",
      "text/plain": [
       "<matplotlib.figure.Figure at 0x7fa43221c4e0>"
      ]
     },
     "metadata": {},
     "output_type": "display_data"
    }
   ],
   "source": [
    "# change this input to X_combine, X_left or X_right\n",
    "from sklearn.model_selection import train_test_split\n",
    "from sklearn.utils import shuffle\n",
    "def shuffle_and_split(X, y, valid_ratio=0.2):\n",
    "    # Shuffle X and y\n",
    "    X, y = shuffle(X, y)\n",
    "    print(X.shape)\n",
    "    # Split out test set\n",
    "    X_train, X_valid, y_train, y_valid = train_test_split(X, y, test_size=valid_ratio, random_state=42)\n",
    "    print(\"X_train shape: \", X_train.shape)\n",
    "    print(\"X_valid shape: \", X_valid.shape)\n",
    "    print(\"y_train shape: \", len(y_train))\n",
    "    print(\"y_valid shape: \", len(y_valid))\n",
    "    # chang data type to floate32\n",
    "    # X_train = X_train.astype('float32')\n",
    "    # X_test = X_test.astype('float32')\n",
    "    plt.figure(2, figsize=(16,20))\n",
    "    for i in range(0, 9):\n",
    "        plt.subplot(9, 1, i+1)\n",
    "        plt.tight_layout()\n",
    "        plt.imshow(X[i].squeeze())\n",
    "        plt.title(str(y[i]))\n",
    "\n",
    "    print(X_train.shape)\n",
    "    return X_train, X_valid, y_train, y_valid\n",
    "\n",
    "X_train, X_valid, y_train, y_valid = shuffle_and_split(X_combine_equ, y)"
   ]
  },
  {
   "cell_type": "code",
   "execution_count": 16,
   "metadata": {
    "collapsed": true
   },
   "outputs": [],
   "source": [
    "# import keras\n",
    "# from keras.models import Sequential\n",
    "# from keras.layers import Dense, Dropout, Flatten\n",
    "# from keras.layers import Conv2D, MaxPooling2D, Lambda\n",
    "# # from keras.callbacks import \n",
    "\n",
    "\n",
    "# num_classes = 7\n",
    "# input_shape = (30, 100, 1)\n",
    "\n",
    "# model = Sequential()\n",
    "\n",
    "# model.add(Lambda(lambda x: x / 255.0 - 0.5, input_shape=input_shape))\n",
    "\n",
    "# # Conv1\n",
    "# model.add(Conv2D(6, kernel_size=(5, 5),\n",
    "#                  activation='relu'))\n",
    "# model.add(MaxPooling2D(pool_size=(2, 2)))\n",
    "# # Conv2\n",
    "# model.add(Conv2D(16, (5, 5), \n",
    "#                  activation='relu'))\n",
    "# model.add(MaxPooling2D(pool_size=(2, 2)))\n",
    "\n",
    "# # model.add(Dropout(0.25))\n",
    "# # FC1\n",
    "# model.add(Flatten())\n",
    "# model.add(Dense(120, activation='relu'))\n",
    "# # model.add(Dropout(0.5))\n",
    "# # FC2\n",
    "# model.add(Dense(84, activation='relu'))\n",
    "# # FC#\n",
    "# model.add(Dense(num_classes, activation='softmax'))\n",
    "\n",
    "# model.compile(loss=keras.losses.categorical_crossentropy,\n",
    "#               optimizer=keras.optimizers.Adadelta(),\n",
    "#               metrics=['accuracy'])\n",
    "\n",
    "# model.summary()\n",
    "\n",
    "# y_train = keras.utils.to_categorical(y_train, num_classes)\n",
    "# y_valid = keras.utils.to_categorical(y_valid, num_classes)"
   ]
  },
  {
   "cell_type": "code",
   "execution_count": 17,
   "metadata": {
    "collapsed": true
   },
   "outputs": [],
   "source": [
    "\n",
    "# BATCH_SIZE = 128\n",
    "# EPOCHS = 100\n",
    "# model.fit(x=X_train, y=y_train, \n",
    "#           batch_size=BATCH_SIZE, \n",
    "#           epochs=EPOCHS, verbose=1, \n",
    "#           validation_data=(X_valid, y_valid), \n",
    "#           shuffle=True)"
   ]
  },
  {
   "cell_type": "code",
   "execution_count": 18,
   "metadata": {},
   "outputs": [
    {
     "name": "stderr",
     "output_type": "stream",
     "text": [
      "/home/nqiao/anaconda3/lib/python3.6/site-packages/h5py/__init__.py:34: FutureWarning: Conversion of the second argument of issubdtype from `float` to `np.floating` is deprecated. In future, it will be treated as `np.float64 == np.dtype(float).type`.\n",
      "  from ._conv import register_converters as _register_converters\n"
     ]
    }
   ],
   "source": [
    "import tensorflow as tf\n",
    "BATCH_SIZE = 128"
   ]
  },
  {
   "cell_type": "code",
   "execution_count": 19,
   "metadata": {
    "collapsed": true
   },
   "outputs": [],
   "source": [
    "from tensorflow.contrib.layers import flatten\n",
    "\n",
    "def LeNet(x):    \n",
    "    # Arguments used for tf.truncated_normal, randomly defines variables for the weights and biases for each layer\n",
    "    mu = 0\n",
    "    sigma = 0.1\n",
    "    \n",
    "    # SOLUTION: Layer 1: Convolutional. Input = 32x32x1. Output = 28x28x6.\n",
    "    conv1_W = tf.Variable(tf.truncated_normal(shape=(5, 5, 1, 6), mean = mu, stddev = sigma))\n",
    "    conv1_b = tf.Variable(tf.zeros(6))\n",
    "    conv1   = tf.nn.conv2d(x, conv1_W, strides=[1, 1, 1, 1], padding='VALID') + conv1_b\n",
    "\n",
    "    # SOLUTION: Activation.\n",
    "    conv1 = tf.nn.relu(conv1)\n",
    "\n",
    "    # SOLUTION: Pooling. Input = 28x28x6. Output = 14x14x6.\n",
    "    conv1 = tf.nn.max_pool(conv1, ksize=[1, 2, 2, 1], strides=[1, 2, 2, 1], padding='VALID')\n",
    "\n",
    "    # SOLUTION: Layer 2: Convolutional. Output = 10x10x16.\n",
    "    conv2_W = tf.Variable(tf.truncated_normal(shape=(5, 5, 6, 16), mean = mu, stddev = sigma))\n",
    "    conv2_b = tf.Variable(tf.zeros(16))\n",
    "    conv2   = tf.nn.conv2d(conv1, conv2_W, strides=[1, 1, 1, 1], padding='VALID') + conv2_b\n",
    "    \n",
    "    # SOLUTION: Activation.\n",
    "    conv2 = tf.nn.relu(conv2)\n",
    "\n",
    "    # SOLUTION: Pooling. Input = 10x10x16. Output = 5x5x16.\n",
    "    conv2 = tf.nn.max_pool(conv2, ksize=[1, 2, 2, 1], strides=[1, 2, 2, 1], padding='VALID')\n",
    "\n",
    "    # SOLUTION: Flatten. Input = 5x5x16. Output = 400.\n",
    "    fc0   = flatten(conv2)\n",
    "    \n",
    "    # SOLUTION: Layer 3: Fully Connected. Input = 400. Output = 120.\n",
    "    fc1_W = tf.Variable(tf.truncated_normal(shape=(1408, 120), mean = mu, stddev = sigma))\n",
    "    fc1_b = tf.Variable(tf.zeros(120))\n",
    "    fc1   = tf.matmul(fc0, fc1_W) + fc1_b\n",
    "    \n",
    "    # SOLUTION: Activation.\n",
    "    fc1    = tf.nn.relu(fc1)\n",
    "\n",
    "    # SOLUTION: Layer 4: Fully Connected. Input = 120. Output = 84.\n",
    "    fc2_W  = tf.Variable(tf.truncated_normal(shape=(120, 84), mean = mu, stddev = sigma))\n",
    "    fc2_b  = tf.Variable(tf.zeros(84))\n",
    "    fc2    = tf.matmul(fc1, fc2_W) + fc2_b\n",
    "    \n",
    "    # SOLUTION: Activation.\n",
    "    fc2    = tf.nn.relu(fc2)\n",
    "\n",
    "    # SOLUTION: Layer 5: Fully Connected. Input = 84. Output = 10.\n",
    "    fc3_W  = tf.Variable(tf.truncated_normal(shape=(84, 7), mean = mu, stddev = sigma))\n",
    "    fc3_b  = tf.Variable(tf.zeros(7))\n",
    "    logits = tf.matmul(fc2, fc3_W) + fc3_b\n",
    "    \n",
    "    return logits"
   ]
  },
  {
   "cell_type": "code",
   "execution_count": 20,
   "metadata": {
    "collapsed": true
   },
   "outputs": [],
   "source": [
    "# Set placeholders for inputs\n",
    "# Change this RGB to GRAY if gray scale is applied.\n",
    "x_holder = tf.placeholder(tf.float32, (None, 30, 100, 1))\n",
    "y_holder = tf.placeholder(tf.int32, (None))\n",
    "one_hot_y = tf.one_hot(y_holder, 7)"
   ]
  },
  {
   "cell_type": "code",
   "execution_count": 21,
   "metadata": {
    "collapsed": true
   },
   "outputs": [],
   "source": [
    "rate = 0.001\n",
    "\n",
    "# logits: the score of a data point\n",
    "logits = LeNet(x_holder)\n",
    "# the distance between score and the ground truth\n",
    "cross_entropy = tf.nn.softmax_cross_entropy_with_logits(labels=one_hot_y, logits=logits)\n",
    "# our goal is to min this average\n",
    "loss_operation = tf.reduce_mean(cross_entropy)\n",
    "optimizer = tf.train.AdamOptimizer(learning_rate = rate)\n",
    "training_operation = optimizer.minimize(loss_operation)"
   ]
  },
  {
   "cell_type": "code",
   "execution_count": 22,
   "metadata": {
    "collapsed": true
   },
   "outputs": [],
   "source": [
    "\"\"\"Model Evaluation\"\"\"\n",
    "# tf.argmax: Returns the index with the largest value across axis of a tensor.\n",
    "# this step is to compare the prediction and the ground truth. E.g.: (1,1,0,1,1,0)--err:2/6\n",
    "correct_prediction = tf.equal(tf.argmax(logits, 1), tf.argmax(one_hot_y, 1))\n",
    "accuracy_operation = tf.reduce_mean(tf.cast(correct_prediction, tf.float32))\n",
    "saver = tf.train.Saver()\n",
    "\n",
    "def evaluate(X_data, y_data):\n",
    "    num_examples = len(X_data)\n",
    "    total_accuracy = 0\n",
    "    # tf.get_default_session(): Returns the default session for the current thread.\n",
    "    # function evaluate() is called right after the training session.\n",
    "    sess = tf.get_default_session()\n",
    "    for offset in range(0, num_examples, BATCH_SIZE):\n",
    "        batch_x, batch_y = X_data[offset:offset+BATCH_SIZE], y_data[offset:offset+BATCH_SIZE]\n",
    "        # accuracy for this particular batch\n",
    "        accuracy = sess.run(accuracy_operation, feed_dict={x_holder: batch_x, y_holder: batch_y})\n",
    "        total_accuracy += (accuracy * len(batch_x))\n",
    "    return total_accuracy / num_examples"
   ]
  },
  {
   "cell_type": "code",
   "execution_count": 23,
   "metadata": {
    "collapsed": true
   },
   "outputs": [],
   "source": [
    "\"\"\"Input data\"\"\"\n",
    "# Choose input dataset. \n",
    "# Options are original(X_train), normalized(X_train_nor), grayscale(X_train_gray).\n",
    "X_train_input = X_train\n",
    "X_valid_input = X_valid\n",
    "y_train_input = y_train\n",
    "y_valid_input = y_valid\n",
    "# print(X_train_input.shape, y_train_input.shape)\n"
   ]
  },
  {
   "cell_type": "code",
   "execution_count": 24,
   "metadata": {},
   "outputs": [
    {
     "name": "stdout",
     "output_type": "stream",
     "text": [
      "Training...\n",
      "\n",
      "EPOCH 1 ...\n",
      "Validation Accuracy = 0.599\n",
      "\n",
      "EPOCH 2 ...\n",
      "Validation Accuracy = 0.643\n",
      "\n",
      "EPOCH 3 ...\n",
      "Validation Accuracy = 0.767\n",
      "\n",
      "EPOCH 4 ...\n",
      "Validation Accuracy = 0.784\n",
      "\n",
      "EPOCH 5 ...\n",
      "Validation Accuracy = 0.797\n",
      "\n",
      "EPOCH 6 ...\n",
      "Validation Accuracy = 0.811\n",
      "\n",
      "EPOCH 7 ...\n",
      "Validation Accuracy = 0.846\n",
      "\n",
      "EPOCH 8 ...\n",
      "Validation Accuracy = 0.855\n",
      "\n",
      "EPOCH 9 ...\n",
      "Validation Accuracy = 0.841\n",
      "\n",
      "EPOCH 10 ...\n",
      "Validation Accuracy = 0.841\n",
      "\n",
      "EPOCH 11 ...\n",
      "Validation Accuracy = 0.859\n",
      "\n",
      "EPOCH 12 ...\n",
      "Validation Accuracy = 0.846\n",
      "\n",
      "EPOCH 13 ...\n",
      "Validation Accuracy = 0.872\n",
      "\n",
      "EPOCH 14 ...\n",
      "Validation Accuracy = 0.894\n",
      "\n",
      "EPOCH 15 ...\n",
      "Validation Accuracy = 0.890\n",
      "\n",
      "EPOCH 16 ...\n",
      "Validation Accuracy = 0.868\n",
      "\n",
      "EPOCH 17 ...\n",
      "Validation Accuracy = 0.881\n",
      "\n",
      "EPOCH 18 ...\n",
      "Validation Accuracy = 0.885\n",
      "\n",
      "EPOCH 19 ...\n",
      "Validation Accuracy = 0.877\n",
      "\n",
      "EPOCH 20 ...\n",
      "Validation Accuracy = 0.855\n",
      "\n",
      "EPOCH 21 ...\n",
      "Validation Accuracy = 0.890\n",
      "\n",
      "EPOCH 22 ...\n",
      "Validation Accuracy = 0.881\n",
      "\n",
      "EPOCH 23 ...\n",
      "Validation Accuracy = 0.881\n",
      "\n",
      "EPOCH 24 ...\n",
      "Validation Accuracy = 0.885\n",
      "\n",
      "EPOCH 25 ...\n",
      "Validation Accuracy = 0.894\n",
      "\n",
      "EPOCH 26 ...\n",
      "Validation Accuracy = 0.890\n",
      "\n",
      "EPOCH 27 ...\n",
      "Validation Accuracy = 0.894\n",
      "\n",
      "EPOCH 28 ...\n",
      "Validation Accuracy = 0.885\n",
      "\n",
      "EPOCH 29 ...\n",
      "Validation Accuracy = 0.885\n",
      "\n",
      "EPOCH 30 ...\n",
      "Validation Accuracy = 0.894\n",
      "\n",
      "EPOCH 31 ...\n",
      "Validation Accuracy = 0.894\n",
      "\n",
      "EPOCH 32 ...\n",
      "Validation Accuracy = 0.885\n",
      "\n",
      "EPOCH 33 ...\n",
      "Validation Accuracy = 0.894\n",
      "\n",
      "EPOCH 34 ...\n",
      "Validation Accuracy = 0.890\n",
      "\n",
      "EPOCH 35 ...\n",
      "Validation Accuracy = 0.890\n",
      "\n",
      "EPOCH 36 ...\n",
      "Validation Accuracy = 0.903\n",
      "\n",
      "EPOCH 37 ...\n",
      "Validation Accuracy = 0.903\n",
      "\n",
      "EPOCH 38 ...\n",
      "Validation Accuracy = 0.903\n",
      "\n",
      "EPOCH 39 ...\n",
      "Validation Accuracy = 0.907\n",
      "\n",
      "EPOCH 40 ...\n",
      "Validation Accuracy = 0.903\n",
      "\n",
      "EPOCH 41 ...\n",
      "Validation Accuracy = 0.903\n",
      "\n",
      "EPOCH 42 ...\n",
      "Validation Accuracy = 0.903\n",
      "\n",
      "EPOCH 43 ...\n",
      "Validation Accuracy = 0.903\n",
      "\n",
      "EPOCH 44 ...\n",
      "Validation Accuracy = 0.899\n",
      "\n",
      "EPOCH 45 ...\n",
      "Validation Accuracy = 0.894\n",
      "\n",
      "EPOCH 46 ...\n",
      "Validation Accuracy = 0.899\n",
      "\n",
      "EPOCH 47 ...\n",
      "Validation Accuracy = 0.899\n",
      "\n",
      "EPOCH 48 ...\n",
      "Validation Accuracy = 0.894\n",
      "\n",
      "EPOCH 49 ...\n",
      "Validation Accuracy = 0.890\n",
      "\n",
      "EPOCH 50 ...\n",
      "Validation Accuracy = 0.890\n",
      "\n",
      "EPOCH 51 ...\n",
      "Validation Accuracy = 0.890\n",
      "\n",
      "EPOCH 52 ...\n",
      "Validation Accuracy = 0.885\n",
      "\n",
      "EPOCH 53 ...\n",
      "Validation Accuracy = 0.890\n",
      "\n",
      "EPOCH 54 ...\n",
      "Validation Accuracy = 0.890\n",
      "\n",
      "EPOCH 55 ...\n",
      "Validation Accuracy = 0.894\n",
      "\n",
      "EPOCH 56 ...\n",
      "Validation Accuracy = 0.894\n",
      "\n",
      "EPOCH 57 ...\n",
      "Validation Accuracy = 0.899\n",
      "\n",
      "EPOCH 58 ...\n",
      "Validation Accuracy = 0.899\n",
      "\n",
      "EPOCH 59 ...\n",
      "Validation Accuracy = 0.899\n",
      "\n",
      "EPOCH 60 ...\n",
      "Validation Accuracy = 0.899\n",
      "\n",
      "EPOCH 61 ...\n",
      "Validation Accuracy = 0.899\n",
      "\n",
      "EPOCH 62 ...\n",
      "Validation Accuracy = 0.899\n",
      "\n",
      "EPOCH 63 ...\n",
      "Validation Accuracy = 0.903\n",
      "\n",
      "EPOCH 64 ...\n",
      "Validation Accuracy = 0.907\n",
      "\n",
      "EPOCH 65 ...\n",
      "Validation Accuracy = 0.903\n",
      "\n",
      "EPOCH 66 ...\n",
      "Validation Accuracy = 0.903\n",
      "\n",
      "EPOCH 67 ...\n",
      "Validation Accuracy = 0.903\n",
      "\n",
      "EPOCH 68 ...\n",
      "Validation Accuracy = 0.912\n",
      "\n",
      "EPOCH 69 ...\n",
      "Validation Accuracy = 0.907\n",
      "\n",
      "EPOCH 70 ...\n",
      "Validation Accuracy = 0.912\n",
      "\n",
      "EPOCH 71 ...\n",
      "Validation Accuracy = 0.907\n",
      "\n",
      "EPOCH 72 ...\n",
      "Validation Accuracy = 0.912\n",
      "\n",
      "EPOCH 73 ...\n",
      "Validation Accuracy = 0.903\n",
      "\n",
      "EPOCH 74 ...\n",
      "Validation Accuracy = 0.907\n",
      "\n",
      "EPOCH 75 ...\n",
      "Validation Accuracy = 0.907\n",
      "\n",
      "EPOCH 76 ...\n",
      "Validation Accuracy = 0.912\n",
      "\n",
      "EPOCH 77 ...\n",
      "Validation Accuracy = 0.907\n",
      "\n",
      "EPOCH 78 ...\n",
      "Validation Accuracy = 0.903\n",
      "\n",
      "EPOCH 79 ...\n",
      "Validation Accuracy = 0.903\n",
      "\n",
      "EPOCH 80 ...\n",
      "Validation Accuracy = 0.912\n",
      "\n",
      "EPOCH 81 ...\n",
      "Validation Accuracy = 0.912\n",
      "\n",
      "EPOCH 82 ...\n",
      "Validation Accuracy = 0.912\n",
      "\n",
      "EPOCH 83 ...\n",
      "Validation Accuracy = 0.907\n",
      "\n",
      "EPOCH 84 ...\n",
      "Validation Accuracy = 0.912\n",
      "\n",
      "EPOCH 85 ...\n",
      "Validation Accuracy = 0.912\n",
      "\n",
      "EPOCH 86 ...\n",
      "Validation Accuracy = 0.916\n",
      "\n",
      "EPOCH 87 ...\n",
      "Validation Accuracy = 0.916\n",
      "\n",
      "EPOCH 88 ...\n",
      "Validation Accuracy = 0.912\n",
      "\n",
      "EPOCH 89 ...\n",
      "Validation Accuracy = 0.912\n",
      "\n",
      "EPOCH 90 ...\n",
      "Validation Accuracy = 0.916\n",
      "\n",
      "EPOCH 91 ...\n",
      "Validation Accuracy = 0.916\n",
      "\n",
      "EPOCH 92 ...\n",
      "Validation Accuracy = 0.916\n",
      "\n",
      "EPOCH 93 ...\n",
      "Validation Accuracy = 0.912\n",
      "\n",
      "EPOCH 94 ...\n",
      "Validation Accuracy = 0.916\n",
      "\n",
      "EPOCH 95 ...\n",
      "Validation Accuracy = 0.916\n",
      "\n",
      "EPOCH 96 ...\n",
      "Validation Accuracy = 0.916\n",
      "\n",
      "EPOCH 97 ...\n",
      "Validation Accuracy = 0.916\n",
      "\n",
      "EPOCH 98 ...\n",
      "Validation Accuracy = 0.916\n",
      "\n",
      "EPOCH 99 ...\n",
      "Validation Accuracy = 0.916\n",
      "\n",
      "EPOCH 100 ...\n",
      "Validation Accuracy = 0.916\n",
      "\n",
      "Model saved\n"
     ]
    }
   ],
   "source": [
    "\"\"\"Train model\"\"\"\n",
    "# Model name: this name will be the save file name.\n",
    "MODEL_NAME = \"100epoch_dropout0.75\"\n",
    "EPOCHS = 100\n",
    "saver_path = \"./trained_models/model.ckpt\"\n",
    "\n",
    "# saver = tf.train.Saver()\n",
    "# model_path = \"./tf_models/model1.ckpt\"\n",
    "\n",
    "### Train your model here.\n",
    "### Calculate and report the accuracy on the training and validation set.\n",
    "### Once a final model architecture is selected, \n",
    "### the accuracy on the test set should be calculated and reported as well.\n",
    "with tf.Session() as sess:\n",
    "    # create a \"logs\" dir which will contain information for tensorboard\n",
    "#     writer = tf.summary.FileWriter(\"logs\", sess.graph)\n",
    "    sess.run(tf.global_variables_initializer())\n",
    "    num_examples = len(X_train)\n",
    "    \n",
    "    print(\"Training...\")\n",
    "    print()\n",
    "    for i in range(EPOCHS):\n",
    "        # change different X_train input\n",
    "        X_train_input, y_train_input = shuffle(X_train_input, y_train_input)\n",
    "        for offset in range(0, num_examples, BATCH_SIZE):\n",
    "            end = offset + BATCH_SIZE\n",
    "            batch_x, batch_y = X_train_input[offset:end], y_train_input[offset:end]\n",
    "            sess.run(training_operation, feed_dict={x_holder: batch_x, y_holder: batch_y})\n",
    "        # change different X_valid input    \n",
    "        validation_accuracy = evaluate(X_valid_input, y_valid_input)\n",
    "        print(\"EPOCH {} ...\".format(i+1))\n",
    "        print(\"Validation Accuracy = {:.3f}\".format(validation_accuracy))\n",
    "        print()\n",
    "        \n",
    "    saver.save(sess, saver_path)\n",
    "    print(\"Model saved\")"
   ]
  },
  {
   "cell_type": "code",
   "execution_count": 25,
   "metadata": {
    "collapsed": true
   },
   "outputs": [],
   "source": [
    "# ### Run the predictions here and use the model to output the prediction for each image.\n",
    "# ### Make sure to pre-process the images with the same pre-processing pipeline used earlier.\n",
    "predict_operation = tf.argmax(logits, 1)\n",
    "\n",
    "# def predict(X_data):\n",
    "#     num_examples = len(X_data)\n",
    "#     sess = tf.get_default_session()    \n",
    "#     for offset in range(0, num_examples, BATCH_SIZE):\n",
    "#         batch_x = X_data[offset:offset+BATCH_SIZE]\n",
    "#         prediction = sess.run(predict_operation, feed_dict={x_holder: batch_x})\n",
    "#     return prediction\n",
    "\n",
    "def predict(X_data):\n",
    "    num_examples = len(X_data)\n",
    "    sess = tf.get_default_session()    \n",
    "    for offset in range(0, num_examples, BATCH_SIZE):\n",
    "        batch_x = X_data[offset:offset+BATCH_SIZE]\n",
    "        prediction = sess.run(predict_operation, feed_dict={x_holder: batch_x})\n",
    "    return prediction"
   ]
  },
  {
   "cell_type": "code",
   "execution_count": 26,
   "metadata": {},
   "outputs": [
    {
     "name": "stdout",
     "output_type": "stream",
     "text": [
      "(30, 100)\n"
     ]
    },
    {
     "data": {
      "text/plain": [
       "<matplotlib.image.AxesImage at 0x7fa3c838a160>"
      ]
     },
     "execution_count": 26,
     "metadata": {},
     "output_type": "execute_result"
    },
    {
     "data": {
      "image/png": "[encoded data removed]",
      "text/plain": [
       "<matplotlib.figure.Figure at 0x7fa3e5865d30>"
      ]
     },
     "metadata": {},
     "output_type": "display_data"
    }
   ],
   "source": [
    "# Load in five German traffic sign I found from web. \n",
    "X_new = []\n",
    "# for i in range(1):\n",
    "example_img = io.imread(\"./data/Eye_chimeraToPublish/0/eyes029191.jpg\")\n",
    "processed_img = pre_process(example_img)\n",
    "X_new.append(processed_img)\n",
    "plt.imshow(processed_img.squeeze())"
   ]
  },
  {
   "cell_type": "code",
   "execution_count": 27,
   "metadata": {},
   "outputs": [
    {
     "name": "stdout",
     "output_type": "stream",
     "text": [
      "INFO:tensorflow:Restoring parameters from ./trained_models/model.ckpt\n",
      "Predict Result :  [0]\n"
     ]
    }
   ],
   "source": [
    "# Predict the above traffic signs.\n",
    "with tf.Session() as sess:\n",
    "    saver.restore(sess, tf.train.latest_checkpoint('./trained_models/'))\n",
    "    prediction = predict(X_new)\n",
    "    print(\"Predict Result : \", prediction)\n"
   ]
  },
  {
   "cell_type": "code",
   "execution_count": 38,
   "metadata": {
    "collapsed": true
   },
   "outputs": [],
   "source": [
    "cap = cv2.VideoCapture(0)"
   ]
  },
  {
   "cell_type": "code",
   "execution_count": 39,
   "metadata": {},
   "outputs": [
    {
     "name": "stdout",
     "output_type": "stream",
     "text": [
      "(480, 640, 3)\n",
      "(30, 100)\n",
      "INFO:tensorflow:Restoring parameters from ./trained_models/model.ckpt\n",
      "Predict Result :  [6]\n",
      "(480, 640, 3)\n",
      "(30, 100)\n",
      "INFO:tensorflow:Restoring parameters from ./trained_models/model.ckpt\n",
      "Predict Result :  [6]\n",
      "(480, 640, 3)\n",
      "(30, 100)\n",
      "INFO:tensorflow:Restoring parameters from ./trained_models/model.ckpt\n",
      "Predict Result :  [6]\n",
      "(480, 640, 3)\n",
      "(30, 100)\n",
      "INFO:tensorflow:Restoring parameters from ./trained_models/model.ckpt\n",
      "Predict Result :  [6]\n",
      "(480, 640, 3)\n",
      "(30, 100)\n",
      "INFO:tensorflow:Restoring parameters from ./trained_models/model.ckpt\n",
      "Predict Result :  [5]\n",
      "(480, 640, 3)\n",
      "(30, 100)\n",
      "INFO:tensorflow:Restoring parameters from ./trained_models/model.ckpt\n",
      "Predict Result :  [5]\n",
      "(480, 640, 3)\n",
      "(30, 100)\n",
      "INFO:tensorflow:Restoring parameters from ./trained_models/model.ckpt\n",
      "Predict Result :  [5]\n",
      "(480, 640, 3)\n",
      "(30, 100)\n",
      "INFO:tensorflow:Restoring parameters from ./trained_models/model.ckpt\n",
      "Predict Result :  [6]\n",
      "(480, 640, 3)\n",
      "(30, 100)\n",
      "INFO:tensorflow:Restoring parameters from ./trained_models/model.ckpt\n",
      "Predict Result :  [5]\n",
      "(480, 640, 3)\n",
      "(30, 100)\n",
      "INFO:tensorflow:Restoring parameters from ./trained_models/model.ckpt\n",
      "Predict Result :  [5]\n",
      "(480, 640, 3)\n",
      "(30, 100)\n",
      "INFO:tensorflow:Restoring parameters from ./trained_models/model.ckpt\n",
      "Predict Result :  [5]\n",
      "(480, 640, 3)\n",
      "(30, 100)\n",
      "INFO:tensorflow:Restoring parameters from ./trained_models/model.ckpt\n",
      "Predict Result :  [5]\n",
      "(480, 640, 3)\n",
      "(30, 100)\n",
      "INFO:tensorflow:Restoring parameters from ./trained_models/model.ckpt\n",
      "Predict Result :  [6]\n",
      "(480, 640, 3)\n",
      "(30, 100)\n",
      "INFO:tensorflow:Restoring parameters from ./trained_models/model.ckpt\n",
      "Predict Result :  [5]\n",
      "(480, 640, 3)\n"
     ]
    },
    {
     "ename": "IndexError",
     "evalue": "",
     "output_type": "error",
     "traceback": [
      "\u001b[0;31m---------------------------------------------------------------------------\u001b[0m",
      "\u001b[0;31mIndexError\u001b[0m                                Traceback (most recent call last)",
      "\u001b[0;32m<ipython-input-39-7b34fcb61649>\u001b[0m in \u001b[0;36m<module>\u001b[0;34m()\u001b[0m\n\u001b[1;32m      5\u001b[0m     \u001b[0mret\u001b[0m\u001b[0;34m,\u001b[0m \u001b[0mframe\u001b[0m \u001b[0;34m=\u001b[0m \u001b[0mcap\u001b[0m\u001b[0;34m.\u001b[0m\u001b[0mread\u001b[0m\u001b[0;34m(\u001b[0m\u001b[0;34m)\u001b[0m\u001b[0;34m\u001b[0m\u001b[0m\n\u001b[1;32m      6\u001b[0m     \u001b[0mprint\u001b[0m\u001b[0;34m(\u001b[0m\u001b[0mframe\u001b[0m\u001b[0;34m.\u001b[0m\u001b[0mshape\u001b[0m\u001b[0;34m)\u001b[0m\u001b[0;34m\u001b[0m\u001b[0m\n\u001b[0;32m----> 7\u001b[0;31m     \u001b[0mprocessed_frame\u001b[0m \u001b[0;34m=\u001b[0m \u001b[0mpre_process\u001b[0m\u001b[0;34m(\u001b[0m\u001b[0mframe\u001b[0m\u001b[0;34m)\u001b[0m\u001b[0;34m\u001b[0m\u001b[0m\n\u001b[0m\u001b[1;32m      8\u001b[0m     \u001b[0mX_new\u001b[0m\u001b[0;34m.\u001b[0m\u001b[0mappend\u001b[0m\u001b[0;34m(\u001b[0m\u001b[0mprocessed_frame\u001b[0m\u001b[0;34m)\u001b[0m\u001b[0;34m\u001b[0m\u001b[0m\n\u001b[1;32m      9\u001b[0m \u001b[0;31m#     gray = cv2.cvtColor(frame, cv2.COLOR_BGR2GRAY)\u001b[0m\u001b[0;34m\u001b[0m\u001b[0;34m\u001b[0m\u001b[0m\n",
      "\u001b[0;32m<ipython-input-14-5a0af922d24f>\u001b[0m in \u001b[0;36mpre_process\u001b[0;34m(img, img_width, img_height, out_width, out_height)\u001b[0m\n\u001b[1;32m     10\u001b[0m     \u001b[0mequ\u001b[0m \u001b[0;34m=\u001b[0m \u001b[0mcv2\u001b[0m\u001b[0;34m.\u001b[0m\u001b[0mequalizeHist\u001b[0m\u001b[0;34m(\u001b[0m\u001b[0mgray\u001b[0m\u001b[0;34m)\u001b[0m\u001b[0;34m\u001b[0m\u001b[0m\n\u001b[1;32m     11\u001b[0m     \u001b[0;31m# extract eyes by dlib and concatenate left and right eye images.\u001b[0m\u001b[0;34m\u001b[0m\u001b[0;34m\u001b[0m\u001b[0m\n\u001b[0;32m---> 12\u001b[0;31m     \u001b[0meyes_img\u001b[0m \u001b[0;34m=\u001b[0m \u001b[0mextract_eyes_by_dlib\u001b[0m\u001b[0;34m(\u001b[0m\u001b[0mequ\u001b[0m\u001b[0;34m,\u001b[0m \u001b[0mpad_scale\u001b[0m\u001b[0;34m=\u001b[0m\u001b[0;36m0.4\u001b[0m\u001b[0;34m,\u001b[0m \u001b[0mresize_width\u001b[0m\u001b[0;34m=\u001b[0m\u001b[0mout_width\u001b[0m\u001b[0;34m,\u001b[0m \u001b[0mresize_height\u001b[0m\u001b[0;34m=\u001b[0m\u001b[0mout_height\u001b[0m\u001b[0;34m,\u001b[0m \u001b[0mcombine\u001b[0m\u001b[0;34m=\u001b[0m\u001b[0;32mTrue\u001b[0m\u001b[0;34m)\u001b[0m\u001b[0;34m\u001b[0m\u001b[0m\n\u001b[0m\u001b[1;32m     13\u001b[0m     \u001b[0mprint\u001b[0m\u001b[0;34m(\u001b[0m\u001b[0meyes_img\u001b[0m\u001b[0;34m.\u001b[0m\u001b[0mshape\u001b[0m\u001b[0;34m)\u001b[0m\u001b[0;34m\u001b[0m\u001b[0m\n\u001b[1;32m     14\u001b[0m     \u001b[0;31m# eyes_img.shape = (30, 100, 1)\u001b[0m\u001b[0;34m\u001b[0m\u001b[0;34m\u001b[0m\u001b[0m\n",
      "\u001b[0;32m<ipython-input-8-38e200c7a175>\u001b[0m in \u001b[0;36mextract_eyes_by_dlib\u001b[0;34m(img, pad_scale, resize_width, resize_height, combine)\u001b[0m\n\u001b[1;32m      1\u001b[0m \u001b[0;32mdef\u001b[0m \u001b[0mextract_eyes_by_dlib\u001b[0m\u001b[0;34m(\u001b[0m\u001b[0mimg\u001b[0m\u001b[0;34m,\u001b[0m \u001b[0mpad_scale\u001b[0m\u001b[0;34m=\u001b[0m\u001b[0;36m0.4\u001b[0m\u001b[0;34m,\u001b[0m \u001b[0mresize_width\u001b[0m\u001b[0;34m=\u001b[0m\u001b[0;36m50\u001b[0m\u001b[0;34m,\u001b[0m \u001b[0mresize_height\u001b[0m\u001b[0;34m=\u001b[0m\u001b[0;36m30\u001b[0m\u001b[0;34m,\u001b[0m \u001b[0mcombine\u001b[0m\u001b[0;34m=\u001b[0m\u001b[0;32mFalse\u001b[0m\u001b[0;34m)\u001b[0m\u001b[0;34m:\u001b[0m\u001b[0;34m\u001b[0m\u001b[0m\n\u001b[1;32m      2\u001b[0m     \u001b[0;31m# get facial landmark matrix by dlib\u001b[0m\u001b[0;34m\u001b[0m\u001b[0;34m\u001b[0m\u001b[0m\n\u001b[0;32m----> 3\u001b[0;31m     \u001b[0mmat\u001b[0m \u001b[0;34m=\u001b[0m \u001b[0mget_landmarks\u001b[0m\u001b[0;34m(\u001b[0m\u001b[0mimg\u001b[0m\u001b[0;34m)\u001b[0m\u001b[0;34m\u001b[0m\u001b[0m\n\u001b[0m\u001b[1;32m      4\u001b[0m \u001b[0;34m\u001b[0m\u001b[0m\n\u001b[1;32m      5\u001b[0m     \u001b[0mleft_left\u001b[0m \u001b[0;34m=\u001b[0m \u001b[0mmat\u001b[0m\u001b[0;34m[\u001b[0m\u001b[0;36m36\u001b[0m\u001b[0;34m,\u001b[0m\u001b[0;36m0\u001b[0m\u001b[0;34m]\u001b[0m\u001b[0;34m\u001b[0m\u001b[0m\n",
      "\u001b[0;32m<ipython-input-2-08c962983215>\u001b[0m in \u001b[0;36mget_landmarks\u001b[0;34m(im)\u001b[0m\n\u001b[1;32m      7\u001b[0m     \u001b[0;34m\"\"\"Single face landmark detector. return an nparray.\"\"\"\u001b[0m\u001b[0;34m\u001b[0m\u001b[0m\n\u001b[1;32m      8\u001b[0m     \u001b[0mrects\u001b[0m \u001b[0;34m=\u001b[0m \u001b[0mdetector\u001b[0m\u001b[0;34m(\u001b[0m\u001b[0mim\u001b[0m\u001b[0;34m,\u001b[0m \u001b[0;36m1\u001b[0m\u001b[0;34m)\u001b[0m\u001b[0;34m\u001b[0m\u001b[0m\n\u001b[0;32m----> 9\u001b[0;31m     \u001b[0;32mreturn\u001b[0m \u001b[0mnp\u001b[0m\u001b[0;34m.\u001b[0m\u001b[0mmatrix\u001b[0m\u001b[0;34m(\u001b[0m\u001b[0;34m[\u001b[0m\u001b[0;34m[\u001b[0m\u001b[0mp\u001b[0m\u001b[0;34m.\u001b[0m\u001b[0mx\u001b[0m\u001b[0;34m,\u001b[0m \u001b[0mp\u001b[0m\u001b[0;34m.\u001b[0m\u001b[0my\u001b[0m\u001b[0;34m]\u001b[0m \u001b[0;32mfor\u001b[0m \u001b[0mp\u001b[0m \u001b[0;32min\u001b[0m \u001b[0mpredictor\u001b[0m\u001b[0;34m(\u001b[0m\u001b[0mim\u001b[0m\u001b[0;34m,\u001b[0m \u001b[0mrects\u001b[0m\u001b[0;34m[\u001b[0m\u001b[0;36m0\u001b[0m\u001b[0;34m]\u001b[0m\u001b[0;34m)\u001b[0m\u001b[0;34m.\u001b[0m\u001b[0mparts\u001b[0m\u001b[0;34m(\u001b[0m\u001b[0;34m)\u001b[0m\u001b[0;34m]\u001b[0m\u001b[0;34m)\u001b[0m\u001b[0;34m\u001b[0m\u001b[0m\n\u001b[0m",
      "\u001b[0;31mIndexError\u001b[0m: "
     ]
    }
   ],
   "source": [
    "LABEL_MAP = {0: \"center\", 1: \"top left\", 2: \"top left\", 3: \"left\", 4: \"right\", 5: \"bottom left\", 6: \"bottom right\"}\n",
    "\n",
    "while(True):\n",
    "    X_new = []\n",
    "    ret, frame = cap.read()\n",
    "    print(frame.shape)\n",
    "    processed_frame = pre_process(frame)\n",
    "    X_new.append(processed_frame)\n",
    "#     gray = cv2.cvtColor(frame, cv2.COLOR_BGR2GRAY)\n",
    "    with tf.Session() as sess:\n",
    "        saver.restore(sess, tf.train.latest_checkpoint('./trained_models/'))\n",
    "        prediction = predict(X_new[-1:])\n",
    "        print(\"Predict Result : \", prediction)\n",
    "    \n",
    "    cv2.imshow('frame', write_result(frame, prediction[0]))\n",
    "    if cv2.waitKey(1) & 0xFF == ord('q'):\n",
    "        break\n",
    "\n",
    "cap.release()\n",
    "cv2.destroyAllWindows()"
   ]
  },
  {
   "cell_type": "code",
   "execution_count": 40,
   "metadata": {
    "collapsed": true
   },
   "outputs": [],
   "source": [
    "cap.release()\n",
    "cv2.destroyAllWindows()"
   ]
  },
  {
   "cell_type": "code",
   "execution_count": 42,
   "metadata": {},
   "outputs": [
    {
     "data": {
      "text/plain": [
       "False"
      ]
     },
     "execution_count": 42,
     "metadata": {},
     "output_type": "execute_result"
    }
   ],
   "source": [
    "cap.isOpened()"
   ]
  },
  {
   "cell_type": "code",
   "execution_count": null,
   "metadata": {
    "collapsed": true
   },
   "outputs": [],
   "source": []
  }
 ],
 "metadata": {
  "kernelspec": {
   "display_name": "Python 3",
   "language": "python",
   "name": "python3"
  },
  "language_info": {
   "codemirror_mode": {
    "name": "ipython",
    "version": 3
   },
   "file_extension": ".py",
   "mimetype": "text/x-python",
   "name": "python",
   "nbconvert_exporter": "python",
   "pygments_lexer": "ipython3",
   "version": "3.6.2"
  }
 },
 "nbformat": 4,
 "nbformat_minor": 2
}
